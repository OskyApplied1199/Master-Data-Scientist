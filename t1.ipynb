{
 "cells": [
  {
   "cell_type": "markdown",
   "id": "5ede8e97",
   "metadata": {},
   "source": [
    "## Tarea 1: Métodos matemáticos para el análisis de datos"
   ]
  },
  {
   "cell_type": "markdown",
   "id": "53657ef6",
   "metadata": {},
   "source": [
    "1. Find the angles (both of them) between the vectors $p = (−1, 3, 1)$ and $q = (−2, −3, −7)$.\n",
    "\n",
    "Solution. We know that:\n",
    "    $\\theta = arc cos(\\frac{p \\cdot q}{\\| p\\| \\|q \\|})$, then we compute:  \n",
    "    $p \\cdot q = (−1, 3, 1) \\cdot (−2, −3, −7) = -14$, and $\\| p\\| \\|q \\| = \\sqrt{682}$,  \n",
    "    therefore, $\\theta = arc cos(\\frac{-14}{682}) = 2.1366 \\sim 122^\\circ $\n",
    "  \n",
    "    "
   ]
  },
  {
   "cell_type": "markdown",
   "id": "d790d59a",
   "metadata": {},
   "source": [
    "2. Find two non parallel vectors which are orthogonal to $p = (1, 1, 1)$.\n",
    "We know that two vectors $u,v$ are orthogonal iff $u \\cdot v = 0$.  \n",
    "Doing $U = (u_1, u_2. u_3)$, such that $u_1 = -2, u_2 = 1$ then $u_3 = 1$,\n",
    "so $ U \\cdot p = 0$.\n",
    "\n",
    "Similarly, $V = (v_1, v_2, v_3)$, choose $v_3 = -1, v_2= -3$ we conclused that $v_1 = 4$, so $V \\cdot p = 0$,  \n",
    "moreover $V, U$ are not parallel vectors.\n"
   ]
  },
  {
   "cell_type": "markdown",
   "id": "94a14662",
   "metadata": {},
   "source": [
    "3. Let n be a natural number and A be as follows:\n",
    "$$ A = \n",
    "\\begin{pmatrix}\n",
    "n & n+1 & n+2 \\\\\n",
    "n+3 & n+4 & n+5 \\\\\n",
    "n+6 & n+7 & n+8 \\\\\n",
    "\\end{pmatrix}\n",
    "$$\n",
    "\n",
    "Show that det(A) remains constant with respect to n.\n",
    "\n",
    "Proof: Let  $b \\in \\mathbf{N}$, and $A$ like its describe, we expand $A$:\n",
    "$$ \\begin{align*} \n",
    "        A &= n \\begin{bmatrix} n+1 & n+5 \\\\ n+7 & n+8 \\end{bmatrix} - (n+1) \\begin{bmatrix} n+3 & n+5 \\\\ n+6 & n+8 \\end{bmatrix} + (n+2) \\begin{bmatrix} n+3 & n+7 \\\\ n+1 & n+6 \\end{bmatrix}\\\\\n",
    "        &= n[(n+4)(n+8)-(n+5)(n+7)] - (n+1)[(n+3)(n+8)-(n+6)(n+5)] + (n+2)[(n+3)(n+7)-(n+4)(n+6)]\\\\\n",
    "        &= n[n^2+12n+32 - (n^2+12n+35)] - (n+1)[n^2+11n+30-(n^2+11n+24)] + (n+2)[n^2+10n+21-(n^2+10n+24)]\\\\\n",
    "        &= -3n + 6n + 6 -3n-6 \\\\\n",
    "        &= 0.\n",
    "   \\end{align*}\n",
    "$$\n",
    "Therefore for any $n \\in \\mathbf{N}$, $det A = 0$."
   ]
  },
  {
   "cell_type": "markdown",
   "id": "4d0c05d5",
   "metadata": {},
   "source": [
    "4. Solve the following system of linear equations using determinants:  \n",
    "$\\begin{align}\n",
    "x + y + z &= 1 \\\\\n",
    "2y - 2z - w &= -7 \\\\\n",
    "x + y - z &= -3 \\\\\n",
    "x + z + w &= 2\n",
    "\\end{align}$\n",
    "\n",
    "Solution. We write into form $AX = b$, where:$ A = \\begin{pmatrix}\n",
    "1 & 1 & 1 & 0 \\\\\n",
    "0 & 2 & -2 & -1\\\\\n",
    "1 & 1 & -1 & 0 \\\\\n",
    "1 & 0 & 1 & 1 \n",
    "\\end{pmatrix}$, $X = \\begin{pmatrix}\n",
    "x \\\\ y \\\\ z \\\\ w\n",
    "\\end{pmatrix}$, $b = \\begin{pmatrix}\n",
    "1 \\\\ -7 \\\\ -3 \\\\ 2\n",
    "\\end{pmatrix}$.  \n",
    "Then we are going to apply the Cramer's rule:\n",
    "$$\n",
    "x_i = \\frac{\\det(A_i)}{\\det(A)}.\n",
    "$$ first we compute:\n",
    "$detA = -2$, next compute $detA_1(b) = -2$, $detA_2(b) = 4$, $detA_3(b) = -4$ and $detA_4(b) = 2$.  \n",
    "then, $x = 1, y=-2, z=2, w=-1$.\n"
   ]
  },
  {
   "cell_type": "code",
   "execution_count": null,
   "id": "263b8acd",
   "metadata": {},
   "outputs": [],
   "source": []
  }
 ],
 "metadata": {
  "kernelspec": {
   "display_name": "Python 3 (ipykernel)",
   "language": "python",
   "name": "python3"
  },
  "language_info": {
   "codemirror_mode": {
    "name": "ipython",
    "version": 3
   },
   "file_extension": ".py",
   "mimetype": "text/x-python",
   "name": "python",
   "nbconvert_exporter": "python",
   "pygments_lexer": "ipython3",
   "version": "3.11.7"
  }
 },
 "nbformat": 4,
 "nbformat_minor": 5
}
