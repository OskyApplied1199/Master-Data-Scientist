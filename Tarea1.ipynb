{
 "cells": [
  {
   "cell_type": "markdown",
   "id": "5ede8e97",
   "metadata": {},
   "source": [
    "## Tarea 1: Métodos matemáticos para el análisis de datos\n",
    "\n",
    "### Oscar Hernandez Torres "
   ]
  },
  {
   "cell_type": "markdown",
   "id": "53657ef6",
   "metadata": {},
   "source": [
    "1. Find the angles (both of them) between the vectors $p = (−1, 3, 1)$ and $q = (−2, −3, −7)$.\n",
    "\n",
    "Solution. We know that:\n",
    "    $\\theta = arc cos(\\frac{p \\cdot q}{\\| p\\| \\|q \\|})$, then we compute:  \n",
    "    $p \\cdot q = (−1, 3, 1) \\cdot (−2, −3, −7) = -14$, and $\\| p\\| \\|q \\| = \\sqrt{682}$,  \n",
    "    therefore, $\\theta = arc cos(\\frac{-14}{682}) = 2.1366 \\sim 122^\\circ $\n",
    "  \n",
    "    "
   ]
  },
  {
   "cell_type": "markdown",
   "id": "d790d59a",
   "metadata": {},
   "source": [
    "2. Find two non parallel vectors which are orthogonal to $p = (1, 1, 1)$.\n",
    "We know that two vectors $u,v$ are orthogonal iff $u \\cdot v = 0$.  \n",
    "Doing $U = (u_1, u_2. u_3)$, such that $u_1 = -2, u_2 = 1$ then $u_3 = 1$,\n",
    "so $ U \\cdot p = 0$.\n",
    "\n",
    "Similarly, $V = (v_1, v_2, v_3)$, choose $v_3 = -1, v_2= -3$ we conclused that $v_1 = 4$, so $V \\cdot p = 0$,  \n",
    "moreover $V, U$ are not parallel vectors.\n"
   ]
  },
  {
   "cell_type": "markdown",
   "id": "94a14662",
   "metadata": {},
   "source": [
    "3. Let n be a natural number and A be as follows:\n",
    "$$ A = \n",
    "\\begin{pmatrix}\n",
    "n & n+1 & n+2 \\\\\n",
    "n+3 & n+4 & n+5 \\\\\n",
    "n+6 & n+7 & n+8 \\\\\n",
    "\\end{pmatrix}\n",
    "$$\n",
    "\n",
    "Show that det(A) remains constant with respect to n.\n",
    "\n",
    "Proof: Let  $b \\in \\mathbf{N}$, and $A$ like its describe, we expand $A$:\n",
    "$$ \\begin{align*} \n",
    "        A &= n \\begin{bmatrix} n+1 & n+5 \\\\ n+7 & n+8 \\end{bmatrix} - (n+1) \\begin{bmatrix} n+3 & n+5 \\\\ n+6 & n+8 \\end{bmatrix} + (n+2) \\begin{bmatrix} n+3 & n+7 \\\\ n+1 & n+6 \\end{bmatrix}\\\\\n",
    "        &= n[(n+4)(n+8)-(n+5)(n+7)] - (n+1)[(n+3)(n+8)-(n+6)(n+5)] + (n+2)[(n+3)(n+7)-(n+4)(n+6)]\\\\\n",
    "        &= n[n^2+12n+32 - (n^2+12n+35)] - (n+1)[n^2+11n+30-(n^2+11n+24)] + (n+2)[n^2+10n+21-(n^2+10n+24)]\\\\\n",
    "        &= -3n + 6n + 6 -3n-6 \\\\\n",
    "        &= 0.\n",
    "   \\end{align*}\n",
    "$$\n",
    "Therefore for any $n \\in \\mathbf{N}$, $det A = 0$."
   ]
  },
  {
   "cell_type": "markdown",
   "id": "4d0c05d5",
   "metadata": {},
   "source": [
    "4. Solve the following system of linear equations using determinants:  \n",
    "$\\begin{align}\n",
    "x + y + z &= 1 \\\\\n",
    "2y - 2z - w &= -7 \\\\\n",
    "x + y - z &= -3 \\\\\n",
    "x + z + w &= 2\n",
    "\\end{align}$\n",
    "\n",
    "Solution. We write into form $AX = b$, where:$ A = \\begin{pmatrix}\n",
    "1 & 1 & 1 & 0 \\\\\n",
    "0 & 2 & -2 & -1\\\\\n",
    "1 & 1 & -1 & 0 \\\\\n",
    "1 & 0 & 1 & 1 \n",
    "\\end{pmatrix}$, $X = \\begin{pmatrix}\n",
    "x \\\\ y \\\\ z \\\\ w\n",
    "\\end{pmatrix}$, $b = \\begin{pmatrix}\n",
    "1 \\\\ -7 \\\\ -3 \\\\ 2\n",
    "\\end{pmatrix}$.  \n",
    "Then we are going to apply the Cramer's rule:\n",
    "$$\n",
    "x_i = \\frac{\\det(A_i)}{\\det(A)}.\n",
    "$$ first we compute:\n",
    "$detA = -2$, next compute $detA_1(b) = -2$, $detA_2(b) = 4$, $detA_3(b) = -4$ and $detA_4(b) = 2$.  \n",
    "then, $x = 1, y=-2, z=2, w=-1$.\n"
   ]
  },
  {
   "cell_type": "markdown",
   "id": "3e604864",
   "metadata": {},
   "source": [
    "5. Show whether or not the following points are concyclic:\n",
    "$p1 = (−1, 6), p2 = (−1, 2), p3 = (1, 4), p4 = (0, 4 −\\sqrt{3})$.\n",
    "Solution. The equation of the circle is given by $x^2+y^2+2ax+2by+c=0$, then we take arbitrary the points $p1,p2,p3$,\n",
    "and solve the equation for this points:  \n",
    "\n",
    "    a) $-1^2+6^2+2a(-1)+2b(6)+c = 0 \\iff 37-2a+12b+c=0$,  \n",
    "    \n",
    "    b) $-1^2+2^2+2a(-1)+2b(2)+c = 0 \\iff 5 -2a+4b+c=0$,  \n",
    "    \n",
    "    c) $1^2+4^2+2a(1)+2b(4)+c =  0 \\iff 17+2a+8b+c=0$.\n",
    "   \n",
    "Its easy verify by Cramer Rule that: $ b=-4, c=13 $ and the equation its: $x^2+y^2+2x-8y+13=0$,  \n",
    "we need to evaluate the point in the equation to verify that it belongs to it,\n",
    "$0^2+(4-\\sqrt{3})^2 + 0 -8(4-\\sqrt{3})+13=0 \\iff 16-8\\sqrt{3}+3-32+8\\sqrt{3}+13= 0$.  \n",
    "$\\therefore$ the points are concyclic."
   ]
  },
  {
   "cell_type": "markdown",
   "id": "191131e0",
   "metadata": {},
   "source": [
    "6. Compute the following limits:  \n",
    "\n",
    "a) $$\\lim_{x \\to 0} \\frac{e^x - 1}{x}$$\n",
    "Like the fraction is undefinded when it's evualuate in $0$, we apply L'Hôpital's Rule,\n",
    "so, $$\\lim_{x \\to 0} \\frac{e^x - 1}{x}  = \\lim_{x \\to 0} e^x  = 1.$$  \n",
    "\n",
    "b) $$\\lim_{(x,y) \\to (0,0)} \\frac{e^{xy} - 1}{y}$$  \n",
    "We expand the Taylor series of $e^{xy}$:  $$e^{xy} = 1 + xy + \\frac{(xy)^2}{2!} + + \\frac{(xy)^3}{3!} + \\dots$$  \n",
    "$$e^{xy} -1 = xy + \\frac{(xy)^2}{2!} + + \\frac{(xy)^3}{3!} + \\dots$$.  \n",
    "Sustitute this expand into original expression:\n",
    "$$\\lim_{(x,y) \\to (0,0)} \\frac{xy + \\frac{(xy)^2}{2!} + + \\frac{(xy)^3}{3!} + \\dots}{y}$$,then\n",
    "$$\\lim_{(x,y) \\to (0,0)} \\frac{e^{xy} - 1}{y} = \\lim_{(x,y) \\to (0,0)} x + \\frac{x^2y}{2!} + \\frac{x^3y^2}{3!} \\dots = 0$$\n",
    "$\\therefore  \\lim_{(x,y) \\to (0,0)} \\frac{e^{xy} - 1}{y} = 0$."
   ]
  },
  {
   "cell_type": "markdown",
   "id": "571418c7",
   "metadata": {},
   "source": [
    "7. Compute $\\nabla f(1,1,1)$ and $\\nabla^2 f(1,1,1)$ where $f(x, y, z) = (x + z)e^{x-y}$.  \n",
    "Solution. First compute the partial derivatives:  \n",
    "$$\\begin{align*}\n",
    "f_x &= e^{x-y} + e^{x-y}(x+z) & f_y = -e^{x-y}(x+z)  & & f_z = e^{x-y}\\\\\n",
    "\\end{align*}$$\n",
    "in this way, $$\\nabla f(x,y,z) = (e^{x-y} + e^{x-y}(x+z), -e^{x-y}(x+z), e^{x-y}) $$\n",
    "and $\\nabla f(1,1,1) = (3,-2,1)$.  \n",
    "\n",
    "For $\\nabla^2 f(1,1,1)$, compute:\n",
    "$$\\nabla^2 f(x, y, z) = \\begin{bmatrix}\n",
    "\\frac{\\partial^2 f}{\\partial x^2} & \\frac{\\partial^2 f}{\\partial x \\partial y} & \\frac{\\partial^2 f}{\\partial x \\partial z} \\\\\n",
    "\\frac{\\partial^2 f}{\\partial y \\partial x} & \\frac{\\partial^2 f}{\\partial y^2} & \\frac{\\partial^2 f}{\\partial y \\partial z} \\\\\n",
    "\\frac{\\partial^2 f}{\\partial z \\partial x} & \\frac{\\partial^2 f}{\\partial z \\partial y} & \\frac{\\partial^2 f}{\\partial z^2}\n",
    "\\end{bmatrix} = \\begin{bmatrix}\n",
    "e^{x-y}(2+x+z) & -e^{x-y}(1+x+z) & e^{x-y} \\\\\n",
    "-e^{x-y}(1+x+y) & e^{x-y}(x+z) & -e^{x-y}\\\\\n",
    "e^{x-y} & -e^{x-y}& 0\n",
    "\\end{bmatrix} $$\n",
    "Next, $$\\nabla^2 f(1,1,1)=\n",
    "\\begin{bmatrix}\n",
    "4 & -3 & 1 \\\\\n",
    "-3 & 2 & -1\\\\\n",
    " 1 & -1 & 0 \n",
    "\\end{bmatrix}$$"
   ]
  },
  {
   "cell_type": "markdown",
   "id": "914f79a3",
   "metadata": {},
   "source": [
    "8. Given a function $f : R^n \\to R$ and an initial point $x_0 \\in R^n$, Newton’s method is defined as follows:  \n",
    "$x_{k+1} = x_k − [\\nabla^2 f(x_k)]^{−1} \\nabla f(x_k)$, $k = 0, 1, 2, · · · , K,$  \n",
    "where $\\nabla f(x_k)$ and $\\nabla^2f(x_k)$ are respectively the gradient and Hessian of f at\n",
    "$x_k$. Write a Python script that, granted a natural number $K$, computes the\n",
    "value of $x_k$ for the function $f(x) = x_1^2 + 3x_2^2$. Consider $x_0 = [1, 1]$. \n",
    "Make a plot with your results."
   ]
  },
  {
   "cell_type": "code",
   "execution_count": 11,
   "id": "eab2cafe",
   "metadata": {
    "tags": []
   },
   "outputs": [
    {
     "data": {
      "image/png": "[encoded data removed]",
      "text/plain": [
       "<Figure size 640x480 with 1 Axes>"
      ]
     },
     "metadata": {},
     "output_type": "display_data"
    }
   ],
   "source": [
    "import numpy as np\n",
    "import matplotlib.pyplot as plt\n",
    "\n",
    "#Importamos paqueterias que nos permitiran trabajar de manera simbolica y posterioremente poder pasar a la forma  numerica.\n",
    "from sympy.abc import x, y\n",
    "from sympy.matrices import Matrix\n",
    "from sympy import lambdify\n",
    "#Aqui definimos la función\n",
    "f = x**2 + 3*y**2\n",
    "f = Matrix([f])\n",
    "#Calculo de derivadas con sympy\n",
    "Gf = f.jacobian([x,y]).T \n",
    "H = Gf.jacobian([x,y])\n",
    "\n",
    "#Pasar de calculo simbolico a numerico\n",
    "s = (x, y)\n",
    "g_func = lambdify(s, Gf, modules='numpy')\n",
    "h_func = lambdify(s, H.inv(), modules='numpy')\n",
    "X = np.zeros([21,2])\n",
    "X[0,:] = 1,1 \n",
    "#Metodo de newton.\n",
    "for i in range(20):\n",
    "    b = np.dot(h_func(X[i,0],X[i,1]), g_func(X[i,0],X[i,1]))\n",
    "    X[i+1,:] = X[i,:] - np.transpose(b)\n",
    "\n",
    "# plt.plot( X[:,0],X[:,1] )\n",
    "fig, ax = plt.subplots() \n",
    "xpoints = X[:,0]\n",
    "ypoints = X[:,1]\n",
    "\n",
    "plt.plot(xpoints, ypoints)\n",
    "ax.scatter(x = xpoints, y = ypoints)\n",
    "plt.show()"
   ]
  },
  {
   "cell_type": "markdown",
   "id": "2dbc55d2",
   "metadata": {},
   "source": [
    "9. Let $x$ and $1 := (1, 1, · · · , 1)$ lie both in $R^n$. Consider the Rosenbrock’s function:\n",
    "$$f(\\mathbf{x}) = \\sum_{i=1}^{n-1} \\left[ 100 \\left( x_{i+1} - x_i^2 \\right)^2 + \\left( x_i - 1 \\right)^2 \\right]$$\n",
    "Compute $\\nabla f(1)$.\n",
    "\n",
    "Solution. For $n=2$, $\\nabla f(x_1, x_2)= \\begin{bmatrix}\n",
    "-400 x_1 (x_2 - x_1^2) + 2 (x_1 - 1) \\\\\n",
    "200 (x_2 - x_1^2)\n",
    "\\end{bmatrix}$, $\\nabla f(1,1) = (0,0)^T$  \n",
    "now for $n=3$: $$\\nabla f(x)\n",
    "= \\begin{bmatrix}\n",
    "-400 x_1 (x_2 - x_1^2) + 2 (x_1 - 1) \\\\\n",
    "200 (x_2 - x_1^2) - 200 x_3 x_2 + 200 x_2^3 + 2 (x_2 - 1) \\\\\n",
    "200 (x_3 - x_2^2)\n",
    "\\end{bmatrix}$$.\n",
    "And $\\nabla f(1,1,1) = (0,0,0)^T$.\n",
    "It can be proven that $\\nabla f(x) = 0$, for any $n \\in \\mathbf{N}$."
   ]
  },
  {
   "cell_type": "markdown",
   "id": "67ae41da",
   "metadata": {},
   "source": [
    "10. Write a script in Python that, granted a natural number $n$ and a point $x \\in R^n$,\n",
    "approximates $∇f(x)$ of $9$ using finite differences. Use this program to verify\n",
    "the results you got in problem 9. Make a table or a plot showing the value of\n",
    "the approximation $∥∇f(1)∥$ for some decreasing values of $h$."
   ]
  },
  {
   "cell_type": "code",
   "execution_count": 14,
   "id": "b6a858dd",
   "metadata": {
    "tags": []
   },
   "outputs": [
    {
     "data": {
      "text/plain": [
       "[<matplotlib.lines.Line2D at 0x24cb8bdb610>]"
      ]
     },
     "execution_count": 14,
     "metadata": {},
     "output_type": "execute_result"
    },
    {
     "data": {
      "image/png": "[encoded data removed]",
      "text/plain": [
       "<Figure size 640x480 with 1 Axes>"
      ]
     },
     "metadata": {},
     "output_type": "display_data"
    }
   ],
   "source": [
    "import numpy as np\n",
    "import matplotlib.pyplot as plt\n",
    "\n",
    "#Definción de la función de Rosenbrock\n",
    "def Rk(n,x):\n",
    "    for i in range(len(x)-1):\n",
    "        rk = 100*(x[i+1] - x[i])**2 - (x[i]-1)**2\n",
    "    return(rk)\n",
    "\n",
    "\n",
    "\n",
    "n = 3\n",
    "x = np.array([1,1,1])\n",
    "rep = 30\n",
    "gf = np.zeros(rep)\n",
    "\n",
    "\n",
    "H = np.linspace(2, 0,rep+1)\n",
    "#Implementacion del metodo de diferencias finitas hacia delante.\n",
    "for i in range(len(H)-1):\n",
    "    gf[i] = (Rk(n, x+H[i]) - Rk(n, x))/H[i]\n",
    "\n",
    "H = np.delete(H, rep)\n",
    "#Como se ve, converge rapidamente a 0.\n",
    "plt.plot(gf, H)"
   ]
  }
 ],
 "metadata": {
  "kernelspec": {
   "display_name": "Python 3 (ipykernel)",
   "language": "python",
   "name": "python3"
  },
  "language_info": {
   "codemirror_mode": {
    "name": "ipython",
    "version": 3
   },
   "file_extension": ".py",
   "mimetype": "text/x-python",
   "name": "python",
   "nbconvert_exporter": "python",
   "pygments_lexer": "ipython3",
   "version": "3.11.7"
  }
 },
 "nbformat": 4,
 "nbformat_minor": 5
}
